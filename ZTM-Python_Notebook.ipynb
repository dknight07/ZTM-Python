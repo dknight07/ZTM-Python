{
 "cells": [
  {
   "attachments": {},
   "cell_type": "markdown",
   "metadata": {},
   "source": [
    "# Introduction\n",
    "Python : Guido Van Rossum\n",
    "\n",
    "https://www.youtube.com/watch?v=J0Aq44Pze-w\n",
    "\n",
    "Python -> Cpython(Byte Code) -> Cpython VM -> Machine Code\n",
    "Online Compilers: Repl.it, Glot.io\n",
    "Python 2 Vs Python 3:\n",
    "\n",
    "https://sebastianraschka.com/Articles/2014_python_2_3_key_diff.html\n",
    "https://www.geeksforgeeks.org/important-differences-between-python-2-x-and-python-3-x-with-examples/\n",
    "\n",
    "Python Documentation : \n",
    "https://docs.python.org/3/ \n",
    "\n",
    "Python Cheat Sheet: \n",
    "https://nicedoc.io/aneagoie/ztm-python-cheat-sheet\n",
    "\n",
    "Data Types : Int,float,bool,str,list,tuple,set,dict,None,Complex\n",
    "Math Functions: https://www.programiz.com/python-programming/modules/math\n",
    "Operator Precedence: (),**,*,/,+,-\n",
    "\n",
    "Python Keywords: https://www.w3schools.com/python/python_ref_keywords.asp![image.png](attachment:image.png)\n",
    "\n",
    "__name = 'Hemanth' ----> \"Dunder Variable\"\n",
    "PI = 3.141592653589793 -----> Constant\n",
    "_score = 100 -----> Variable"
   ]
  },
  {
   "cell_type": "code",
   "execution_count": 2,
   "metadata": {},
   "outputs": [
    {
     "name": "stdout",
     "output_type": "stream",
     "text": [
      "0b1000\n",
      "8\n"
     ]
    }
   ],
   "source": [
    "print(bin(8))\n",
    "print(int('0b1000',2))"
   ]
  },
  {
   "attachments": {},
   "cell_type": "markdown",
   "metadata": {},
   "source": [
    "# Augmented Assignment Operator : \n",
    "\n",
    "Augmented Assignment Operator : some_value+=2"
   ]
  },
  {
   "cell_type": "code",
   "execution_count": 7,
   "metadata": {},
   "outputs": [
    {
     "name": "stdout",
     "output_type": "stream",
     "text": [
      "\n",
      "\n",
      "WOW\n",
      "0 0 0 \n",
      "- - -\n",
      "\n"
     ]
    }
   ],
   "source": [
    "long_string = '''\n",
    "\n",
    "WOW\n",
    "0 0 0 \n",
    "- - -\n",
    "''' \n",
    "print(long_string)"
   ]
  },
  {
   "cell_type": "code",
   "execution_count": 9,
   "metadata": {},
   "outputs": [
    {
     "name": "stdout",
     "output_type": "stream",
     "text": [
      "Hi Hemanth. You are 25 Old.\n",
      "Hello Cindy, your balance is 50.\n"
     ]
    }
   ],
   "source": [
    "#Formatted Strings: \n",
    "Name=\"Hemanth\"\n",
    "Age = 25\n",
    "print(f'Hi {Name}. You are {Age} Old.')\n",
    "print(f'Hello {\"Cindy\"}, your balance is {50}.')"
   ]
  },
  {
   "cell_type": "code",
   "execution_count": 11,
   "metadata": {},
   "outputs": [
    {
     "name": "stdout",
     "output_type": "stream",
     "text": [
      "Hello Cindy, your balance is 50.\n",
      "Hello Cindy, your balance is 50.\n",
      "Hello Cindy, your balance is 50.\n",
      "Hello Cindy, your balance is 50.\n"
     ]
    }
   ],
   "source": [
    "#With .format: \n",
    "\n",
    "print(\"Hello {}, your balance is {}.\".format(\"Cindy\", 50))\n",
    "print(\"Hello {0}, your balance is {1}.\".format(\"Cindy\", 50))\n",
    "print(\"Hello {name}, your balance is {amount}.\".format(name=\"Cindy\", amount=50))\n",
    "print(\"Hello {0}, your balance is {amount}.\".format(\"Cindy\", amount=50))\n"
   ]
  },
  {
   "attachments": {},
   "cell_type": "markdown",
   "metadata": {},
   "source": [
    "# Strings,Functions,Methods:\n",
    "\n",
    "Strings are Immutable. Ex: name = \"Hemanth\" ; name[5] = 'f'\n",
    "\n",
    "Built In Functions : https://docs.python.org/3/library/functions.html\n",
    "Python String Methods: https://www.w3schools.com/python/python_ref_string.asp\n",
    "\n",
    "\n",
    "List Methods : https://www.w3schools.com/python/python_ref_list.asp\n",
    "Python KeyWords: https://www.w3schools.com/python/python_ref_keywords.asp"
   ]
  },
  {
   "cell_type": "code",
   "execution_count": 12,
   "metadata": {},
   "outputs": [
    {
     "name": "stdout",
     "output_type": "stream",
     "text": [
      "1\n",
      "2\n",
      "[3, 4, 5, 6, 7]\n",
      "8\n"
     ]
    }
   ],
   "source": [
    "#List UnPacking:\n",
    "\n",
    "A,b,*my_list,d = [1,2,3,4,5,6,7,8]\n",
    "\n",
    "print(A)\n",
    "print(b)\n",
    "print(my_list)\n",
    "print(d)"
   ]
  },
  {
   "attachments": {},
   "cell_type": "markdown",
   "metadata": {},
   "source": [
    "# Dictionaries\n",
    "Dictionary keys are Immutable.\n",
    "Dictionary Methods : https://www.w3schools.com/python/python_ref_dictionary.asp"
   ]
  },
  {
   "cell_type": "code",
   "execution_count": 16,
   "metadata": {},
   "outputs": [
    {
     "name": "stdout",
     "output_type": "stream",
     "text": [
      "Hemanth\n",
      "None\n",
      "ValueLabs\n"
     ]
    }
   ],
   "source": [
    "user = {\n",
    "'name': 'Hemanth',\n",
    "'age': 25\n",
    "}\n",
    "print(user.get('name'))\n",
    "print(user.get('company')) \n",
    "print(user.get('company','ValueLabs'))"
   ]
  },
  {
   "cell_type": "code",
   "execution_count": 18,
   "metadata": {},
   "outputs": [
    {
     "name": "stdout",
     "output_type": "stream",
     "text": [
      "age\n",
      "username\n",
      "weapons\n",
      "is_active\n",
      "clan\n",
      "{'age': 25, 'username': 'estar07', 'weapons': ['sword', 'boomerang', 'rope', 'MachineGun'], 'is_active': True, 'clan': 'Vikings'}\n",
      "{'age': 25, 'username': 'estar07', 'weapons': ['sword', 'boomerang', 'rope', 'MachineGun'], 'is_active': True, 'clan': 'Vikings', 'is_banned': False}\n",
      "{'age': 25, 'username': 'estar07', 'weapons': ['sword', 'boomerang', 'rope', 'MachineGun'], 'is_active': True, 'clan': 'Vikings', 'is_banned': True}\n",
      "{'age': 25, 'username': 'estar07', 'weapons': ['sword', 'boomerang', 'rope', 'MachineGun'], 'is_active': True, 'clan': 'Vikings', 'is_banned': True}\n",
      "{'age': 28, 'username': 'dknight07', 'weapons': ['sword', 'boomerang', 'rope', 'MachineGun'], 'is_active': True, 'clan': 'Vikings', 'is_banned': True}\n"
     ]
    }
   ],
   "source": [
    "#Exercise:\n",
    "\n",
    "#1 Create a user profile for your new game. This user profile will be stored in a dictionary with keys: 'age', 'username', 'weapons', 'is_active' and 'clan'\n",
    "user = {\n",
    "'age':25,\n",
    "'username':'estar07',\n",
    "'weapons':['sword','boomerang','rope'],\n",
    "'is_active':True,\n",
    "'clan':'Vikings'\n",
    "}\n",
    "#2 iterate and print all the keys in the above user.\n",
    "for k in user.keys():\n",
    "    print(k)\n",
    "#3 Add a new weapon to your user\n",
    "user['weapons'].append('MachineGun')\n",
    "print(user)\n",
    "#4 Add a new key to include 'is_banned'. Set it to false\n",
    "user.update({'is_banned': False}) \n",
    "print(user)\n",
    "#5 Ban the user by setting the previous key to True\n",
    "user['is_banned'] = True\n",
    "print(user)\n",
    "#6 create a new user2 my copying the previous user and update the age value and username value. \n",
    "user2 = user.copy()\n",
    "user2.update({\n",
    "'age':28,\n",
    "'username':'dknight07'\n",
    "})\n",
    "print(user)\n",
    "print(user2)\n"
   ]
  },
  {
   "cell_type": "code",
   "execution_count": null,
   "metadata": {},
   "outputs": [],
   "source": []
  },
  {
   "cell_type": "code",
   "execution_count": null,
   "metadata": {},
   "outputs": [],
   "source": []
  },
  {
   "cell_type": "code",
   "execution_count": null,
   "metadata": {},
   "outputs": [],
   "source": []
  },
  {
   "cell_type": "code",
   "execution_count": null,
   "metadata": {},
   "outputs": [],
   "source": []
  },
  {
   "cell_type": "code",
   "execution_count": null,
   "metadata": {},
   "outputs": [],
   "source": []
  }
 ],
 "metadata": {
  "kernelspec": {
   "display_name": "Python 3",
   "language": "python",
   "name": "python3"
  },
  "language_info": {
   "codemirror_mode": {
    "name": "ipython",
    "version": 3
   },
   "file_extension": ".py",
   "mimetype": "text/x-python",
   "name": "python",
   "nbconvert_exporter": "python",
   "pygments_lexer": "ipython3",
   "version": "3.7.3"
  }
 },
 "nbformat": 4,
 "nbformat_minor": 2
}
